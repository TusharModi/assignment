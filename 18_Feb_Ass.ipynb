{
 "cells": [
  {
   "cell_type": "markdown",
   "id": "53ef6c9f-1133-4a6e-8e10-5a007ebafb91",
   "metadata": {},
   "source": [
    "### Q1. What is an API? Give an example, where an API is used in real life."
   ]
  },
  {
   "cell_type": "markdown",
   "id": "f564d1de-b473-4ab5-945a-1aa5722f3888",
   "metadata": {},
   "source": [
    "API stands for Application Programming Interface. API define how different software components or application should interact and can be used to facilitate data exchange and functionality between different software systems."
   ]
  },
  {
   "cell_type": "markdown",
   "id": "dda6080a-cc35-4a27-9aa8-9ab53012cce8",
   "metadata": {},
   "source": [
    "For example,\n",
    "Google Maps API, Gmail, Uber ,Ola and Airbnb."
   ]
  },
  {
   "cell_type": "markdown",
   "id": "dfb32d4d-19fb-41ea-88b2-220b8d95351e",
   "metadata": {},
   "source": [
    "### Q2. Give advantages and disadvantages of using API."
   ]
  },
  {
   "cell_type": "markdown",
   "id": "815d666f-0198-45cc-9d44-f52c300b888d",
   "metadata": {},
   "source": [
    "Advantages of using API"
   ]
  },
  {
   "cell_type": "markdown",
   "id": "55a65f96-50d7-42ab-93a9-b4bfa898a85b",
   "metadata": {},
   "source": [
    "    1. Time and Cost-Efficient:-\n",
    "            API can save time and money by enabling software developers to reuse existing code instead of building everything from scratch."
   ]
  },
  {
   "cell_type": "markdown",
   "id": "559c8123-daf2-40a7-a268-0b85ceccf28a",
   "metadata": {},
   "source": [
    "    2. Scalability:-\n",
    "            API can allowing developers to build new applications that can integrate with existing systems through the API."
   ]
  },
  {
   "cell_type": "markdown",
   "id": "9632ad0f-d08b-48d7-bd1b-898ae99b9f60",
   "metadata": {},
   "source": [
    "    3. Customization:-\n",
    "            Developers can easily customized to fit the needs of different organizations and create unique solutions that meet specific business requirements."
   ]
  },
  {
   "cell_type": "markdown",
   "id": "367dbfed-3a27-43fb-917e-068f313dea22",
   "metadata": {},
   "source": [
    "    4. Accessibility:-\n",
    "            API can allowing developers to build new experiences and wider audience."
   ]
  },
  {
   "cell_type": "markdown",
   "id": "c88b531c-ceb2-4dd3-8e21-fb1ecf1a652e",
   "metadata": {},
   "source": [
    "    5. Innovation:-\n",
    "            APIs can help drive innovation by enabling developers to build new applications that leverage the data and functionality provided by the API."
   ]
  },
  {
   "cell_type": "markdown",
   "id": "7f27d6f5-8baf-4d4f-84c3-99048a08a14a",
   "metadata": {},
   "source": [
    "Disadvantages of using API"
   ]
  },
  {
   "cell_type": "markdown",
   "id": "5f4f303e-d447-43c6-9b61-af4a343736be",
   "metadata": {},
   "source": [
    "    1. Security Risks:-\n",
    "            APIs can pose security risks, as they expose parts of a system to external parties. Poorly secured APIs can lead to data breaches, data theft, and other cyberattacks."
   ]
  },
  {
   "cell_type": "markdown",
   "id": "667ac016-e4a7-44d3-9e29-b1a9c29a6740",
   "metadata": {},
   "source": [
    "    2. Complexity:-\n",
    "            APIs can be complex to build and maintain, requiring skilled developers who are knowledgeable about the underlying technology and protocols used."
   ]
  },
  {
   "cell_type": "markdown",
   "id": "d48e4c78-bbbc-4c28-b1f1-8e469f129ec4",
   "metadata": {},
   "source": [
    "    3. Dependency:-\n",
    "            APIs can create a dependency on external systems, making software systems more vulnerable to failures or outages in those systems."
   ]
  },
  {
   "cell_type": "markdown",
   "id": "f70212a6-dbcd-4bd1-8ffb-662ff073c794",
   "metadata": {},
   "source": [
    "    4. Compatibility:-\n",
    "            APIs may not be compatible with all systems or may require updates to remain compatible with changes in other systems."
   ]
  },
  {
   "cell_type": "markdown",
   "id": "767dc284-ea92-4aaf-95f2-770a7d345ea6",
   "metadata": {},
   "source": [
    "    5. Reliability:-\n",
    "            APIs may not always be reliable, leading to issues with data availability, system performance, or overall stability."
   ]
  },
  {
   "cell_type": "markdown",
   "id": "7e3d6eac-7204-4b07-8cf0-31803cc52d18",
   "metadata": {},
   "source": [
    "### Q3. What is a Web API? Differentiate between API and Web API."
   ]
  },
  {
   "cell_type": "markdown",
   "id": "55bac4a8-bd23-4306-9717-d75c56640f26",
   "metadata": {},
   "source": [
    "A Web API (Application Programming Interface) is an API that is designed to work over the internet and is typically accessed using HTTP protocol. Web APIs are specifically designed to be accessed using web technologies such as JavaScript, HTML, and CSS. A Web API typically provides access to web-based functionality and resources, such as web pages, data, and media."
   ]
  },
  {
   "cell_type": "markdown",
   "id": "c5e0497d-5812-40d2-95d3-97ccabd683f6",
   "metadata": {},
   "source": [
    "the main difference between API and Web API is that Web API specifically refers to APIs that are designed to be accessed over the internet using web-based technologies, while API is a more general term that can refer to any set of protocols, routines, and tools used for building software applications, regardless of the context in which they are used."
   ]
  },
  {
   "cell_type": "markdown",
   "id": "72ddab85-331a-4c5a-8d1a-24a16669f506",
   "metadata": {},
   "source": [
    "### Q4. Explain REST and SOAP Architecture. Mention shortcomings of SOAP."
   ]
  },
  {
   "cell_type": "markdown",
   "id": "6efaae1c-0e4d-442a-8ebc-654d3dd943cd",
   "metadata": {},
   "source": [
    "REST (Representational State Transfer) is a stateless, client-server architecture that is based on HTTP protocol. RESTful web services provide a uniform interface for accessing and manipulating resources through HTTP methods such as GET, POST, PUT, and DELETE. REST is designed to be simple and lightweight, making it easy to build and deploy web services."
   ]
  },
  {
   "cell_type": "markdown",
   "id": "65d1c3b5-0a84-45cd-9524-8a6168faefd3",
   "metadata": {},
   "source": [
    "SOAP (Simple Object Access Protocol) is a messaging protocol that uses XML for exchanging data between systems. SOAP is a more complex architecture than REST and provides more features such as built-in error handling and security. SOAP also provides a way to define a service interface using the Web Services Description Language (WSDL)."
   ]
  },
  {
   "cell_type": "markdown",
   "id": "0c9a436d-d333-415e-91f3-0fa79fe079f1",
   "metadata": {},
   "source": [
    "The main disadvantage of SOAP is its complexity. SOAP is often criticized for being difficult to use and for having a steep learning curve. SOAP messages are typically larger than REST messages, which can make them slower to transmit over the network. SOAP also requires additional processing overhead due to its use of XML."
   ]
  },
  {
   "cell_type": "markdown",
   "id": "679015e3-b5e3-4d3b-8567-d5f7a413a903",
   "metadata": {},
   "source": [
    "Another issue with SOAP is that it can be challenging to integrate with other web services or systems that are not using SOAP. This can make it difficult to build interoperable web services."
   ]
  },
  {
   "cell_type": "markdown",
   "id": "e056fa47-15fa-4900-a1ed-e5994e710aa7",
   "metadata": {},
   "source": [
    "### Q5. Differentiate between REST and SOAP."
   ]
  },
  {
   "cell_type": "markdown",
   "id": "c1a5fb3b-4464-49f7-aaf6-f4fd5092f2c3",
   "metadata": {},
   "source": [
    "REST is a lightweight, simple architecture that is easy to use and is a popular choice for building web services. SOAP, on the other hand, is a more complex architecture that provides more features but can be difficult to use and integrate with other systems."
   ]
  }
 ],
 "metadata": {
  "kernelspec": {
   "display_name": "Python 3 (ipykernel)",
   "language": "python",
   "name": "python3"
  },
  "language_info": {
   "codemirror_mode": {
    "name": "ipython",
    "version": 3
   },
   "file_extension": ".py",
   "mimetype": "text/x-python",
   "name": "python",
   "nbconvert_exporter": "python",
   "pygments_lexer": "ipython3",
   "version": "3.10.8"
  }
 },
 "nbformat": 4,
 "nbformat_minor": 5
}
