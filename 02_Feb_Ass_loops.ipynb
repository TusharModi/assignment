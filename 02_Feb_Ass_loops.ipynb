{
 "cells": [
  {
   "cell_type": "markdown",
   "id": "0919de96-4ed6-4da9-8d30-b508267303ee",
   "metadata": {},
   "source": [
    "Q1. Explain with an example each when to use a for loop and a while loop."
   ]
  },
  {
   "cell_type": "raw",
   "id": "ca59d718-a512-493a-b24f-d086bc3f28e4",
   "metadata": {},
   "source": [
    "Ans:- \n",
    "        Here are some examples of when to use a for loop and a while loop:\n",
    "        1) For loop:\n",
    "            For loop is used when the number of time you want repat set of code.\n",
    "            \n",
    "            For Example:-"
   ]
  },
  {
   "cell_type": "code",
   "execution_count": 2,
   "id": "036466dd-faa4-44c7-beb1-e813ad268fbc",
   "metadata": {},
   "outputs": [
    {
     "name": "stdout",
     "output_type": "stream",
     "text": [
      "2\n",
      "4\n",
      "6\n",
      "8\n",
      "10\n"
     ]
    }
   ],
   "source": [
    "#Printing first 5 even number using for loop.\n",
    "for i in range(1,11):\n",
    "    if (i%2==0):\n",
    "        print(i)"
   ]
  },
  {
   "cell_type": "raw",
   "id": "f9f57010-fc10-4d6c-9bf2-3b6a067c3690",
   "metadata": {},
   "source": [
    "        2) While loop:\n",
    "            A while loop is used when you don't know how many time you need repeat a set of code,\n",
    "            but you do know the condition under which you need to stop.\n",
    "            \n",
    "            For Example:-"
   ]
  },
  {
   "cell_type": "code",
   "execution_count": 5,
   "id": "fa57c505-b55c-49e4-998e-a19af09ad131",
   "metadata": {},
   "outputs": [
    {
     "name": "stdout",
     "output_type": "stream",
     "text": [
      "1\n",
      "2\n",
      "3\n",
      "4\n",
      "5\n"
     ]
    }
   ],
   "source": [
    "# Example: Counting from 1 to 5 using a while loop\n",
    "count = 1\n",
    "while count <= 5:\n",
    "    print(count)\n",
    "    count += 1"
   ]
  },
  {
   "cell_type": "raw",
   "id": "e9c419cf-b746-4c70-872d-6ae5926e7c1e",
   "metadata": {},
   "source": [
    "Q2. Write a python program to print the sum and product of the first 10 natural numbers using for\n",
    "and while loop."
   ]
  },
  {
   "cell_type": "code",
   "execution_count": 31,
   "id": "6c62538f-b593-411f-aa7f-51f39172bda8",
   "metadata": {},
   "outputs": [
    {
     "name": "stdout",
     "output_type": "stream",
     "text": [
      "Sum of the first 10 natural numbers: 55\n",
      "product of the first 10 natural numbers: 3628800\n"
     ]
    }
   ],
   "source": [
    "sum=0\n",
    "product=1\n",
    "for i in range(1,11):\n",
    "    sum+=i\n",
    "    product*=i\n",
    "print(f\"Sum of the first 10 natural numbers: {sum}\\nproduct of the first 10 natural numbers: {product}\")"
   ]
  },
  {
   "cell_type": "code",
   "execution_count": 34,
   "id": "6d874262-89f3-48df-a1b4-40e724668fd2",
   "metadata": {},
   "outputs": [
    {
     "name": "stdout",
     "output_type": "stream",
     "text": [
      "Sum of the first 10 natural numbers: 55\n",
      "product of the first 10 natural numbers: 3628800\n"
     ]
    }
   ],
   "source": [
    "sum=0\n",
    "product=1\n",
    "number=1\n",
    "while number<=10:\n",
    "    sum+=number\n",
    "    product*=number\n",
    "    number+=1\n",
    "print(f\"Sum of the first 10 natural numbers: {sum}\\nproduct of the first 10 natural numbers: {product}\")"
   ]
  },
  {
   "cell_type": "raw",
   "id": "3bfb9a18-faa9-4200-9b1e-e26656204d7e",
   "metadata": {},
   "source": [
    "Q3. Create a python program to compute the electricity bill for a household.\n",
    "The per-unit charges in rupees are as follows: For the first 100 units, the user will be charged Rs. 4.5 per\n",
    "unit, for the next 100 units, the user will be charged Rs. 6 per unit, and for the next 100 units, the user will\n",
    "be charged Rs. 10 per unit, After 300 units and above the user will be charged Rs. 20 per unit.\n",
    "You are required to take the units of electricity consumed in a month from the user as input.\n",
    "Your program must pass this test case: when the unit of electricity consumed by the user in a month is\n",
    "310, the total electricity bill should be 2250."
   ]
  },
  {
   "cell_type": "code",
   "execution_count": 59,
   "id": "63a5b0f0-ef54-4ec7-8e23-8113f3d62748",
   "metadata": {},
   "outputs": [
    {
     "name": "stdin",
     "output_type": "stream",
     "text": [
      "Electricity bill units: 310\n"
     ]
    },
    {
     "name": "stdout",
     "output_type": "stream",
     "text": [
      "2250.0\n"
     ]
    }
   ],
   "source": [
    "a=int(input(\"Electricity bill units:\"))\n",
    "b=0\n",
    "c=0\n",
    "d=0\n",
    "e=0\n",
    "for i in range(1,a+1):\n",
    "    if i<=100:\n",
    "        b=4.5+b\n",
    "    elif i>100 and i<=200:\n",
    "        c=6+c\n",
    "    elif i>200 and i<=300:\n",
    "        d=10+d\n",
    "    elif i>300:\n",
    "        e=20+e\n",
    "# print(b,c,d,e)\n",
    "f=b+c+d+e\n",
    "print(f)"
   ]
  },
  {
   "cell_type": "code",
   "execution_count": 55,
   "id": "96017adb-952c-44ec-8a06-c044ad468be9",
   "metadata": {},
   "outputs": [
    {
     "name": "stdin",
     "output_type": "stream",
     "text": [
      "Electricity bill units: 10000000\n"
     ]
    },
    {
     "name": "stdout",
     "output_type": "stream",
     "text": [
      "199996050.0\n"
     ]
    }
   ],
   "source": [
    "# a=int(input(\"Electricity bill units:\"))\n",
    "\n",
    "# if a <=100:\n",
    "#     bill = a*4.5\n",
    "# elif a>100 and a<=200:\n",
    "#     bill = 100*4.5 + (a-100)*6\n",
    "# elif a>200 and a<=300:\n",
    "#     bill = 100*4.5 + 100*6 + (a-200)*10\n",
    "# elif a > 300:\n",
    "#     bill = 100*4.5 + 100*6 + 100*10 + (a-300)*20\n",
    "    \n",
    "# print(bill)"
   ]
  },
  {
   "cell_type": "raw",
   "id": "33486006-43aa-4570-b62a-400bef0ef4e6",
   "metadata": {},
   "source": [
    "Q4. Create a list of numbers from 1 to 100. Use for loop and while loop to calculate the cube of each\n",
    "number and if the cube of that number is divisible by 4 or 5 then append that number in a list and print\n",
    "that list."
   ]
  },
  {
   "cell_type": "code",
   "execution_count": 73,
   "id": "20ca2762-9270-448a-90f4-64bb60a5ba95",
   "metadata": {},
   "outputs": [
    {
     "data": {
      "text/plain": [
       "[2,\n",
       " 4,\n",
       " 5,\n",
       " 6,\n",
       " 8,\n",
       " 10,\n",
       " 12,\n",
       " 14,\n",
       " 15,\n",
       " 16,\n",
       " 18,\n",
       " 20,\n",
       " 22,\n",
       " 24,\n",
       " 25,\n",
       " 26,\n",
       " 28,\n",
       " 30,\n",
       " 32,\n",
       " 34,\n",
       " 35,\n",
       " 36,\n",
       " 38,\n",
       " 40,\n",
       " 42,\n",
       " 44,\n",
       " 45,\n",
       " 46,\n",
       " 48,\n",
       " 50,\n",
       " 52,\n",
       " 54,\n",
       " 55,\n",
       " 56,\n",
       " 58,\n",
       " 60,\n",
       " 62,\n",
       " 64,\n",
       " 65,\n",
       " 66,\n",
       " 68,\n",
       " 70,\n",
       " 72,\n",
       " 74,\n",
       " 75,\n",
       " 76,\n",
       " 78,\n",
       " 80,\n",
       " 82,\n",
       " 84,\n",
       " 85,\n",
       " 86,\n",
       " 88,\n",
       " 90,\n",
       " 92,\n",
       " 94,\n",
       " 95,\n",
       " 96,\n",
       " 98,\n",
       " 100]"
      ]
     },
     "execution_count": 73,
     "metadata": {},
     "output_type": "execute_result"
    }
   ],
   "source": [
    "l=list(range(1,101))\n",
    "a=[]\n",
    "for i in l:\n",
    "    cube=i**3\n",
    "    if cube % 4==0 or cube % 5==0:\n",
    "        a.append(i)\n",
    "a"
   ]
  },
  {
   "cell_type": "code",
   "execution_count": 77,
   "id": "4b69f9d9-1e19-4be3-8df7-e0a8b459d0dc",
   "metadata": {},
   "outputs": [
    {
     "data": {
      "text/plain": [
       "[2,\n",
       " 4,\n",
       " 5,\n",
       " 6,\n",
       " 8,\n",
       " 10,\n",
       " 12,\n",
       " 14,\n",
       " 15,\n",
       " 16,\n",
       " 18,\n",
       " 20,\n",
       " 22,\n",
       " 24,\n",
       " 25,\n",
       " 26,\n",
       " 28,\n",
       " 30,\n",
       " 32,\n",
       " 34,\n",
       " 35,\n",
       " 36,\n",
       " 38,\n",
       " 40,\n",
       " 42,\n",
       " 44,\n",
       " 45,\n",
       " 46,\n",
       " 48,\n",
       " 50,\n",
       " 52,\n",
       " 54,\n",
       " 55,\n",
       " 56,\n",
       " 58,\n",
       " 60,\n",
       " 62,\n",
       " 64,\n",
       " 65,\n",
       " 66,\n",
       " 68,\n",
       " 70,\n",
       " 72,\n",
       " 74,\n",
       " 75,\n",
       " 76,\n",
       " 78,\n",
       " 80,\n",
       " 82,\n",
       " 84,\n",
       " 85,\n",
       " 86,\n",
       " 88,\n",
       " 90,\n",
       " 92,\n",
       " 94,\n",
       " 95,\n",
       " 96,\n",
       " 98,\n",
       " 100]"
      ]
     },
     "execution_count": 77,
     "metadata": {},
     "output_type": "execute_result"
    }
   ],
   "source": [
    "number=0\n",
    "a=[]\n",
    "while number<=len(l)-1:\n",
    "    number+=1\n",
    "    cube=number**3\n",
    "    if cube % 4==0 or cube % 5==0:\n",
    "        a.append(number)\n",
    "a"
   ]
  },
  {
   "cell_type": "raw",
   "id": "8e8e7128-d9f0-4556-878b-fe33ecb4b1a2",
   "metadata": {},
   "source": [
    "Q5. Write a program to filter count vowels in the below-given string.\n",
    "string = \"I want to become a data scientist\""
   ]
  },
  {
   "cell_type": "code",
   "execution_count": 92,
   "id": "99931436-23db-4f32-ba57-798909071883",
   "metadata": {},
   "outputs": [
    {
     "data": {
      "text/plain": [
       "12"
      ]
     },
     "execution_count": 92,
     "metadata": {},
     "output_type": "execute_result"
    }
   ],
   "source": [
    "string = \"I want to become a data scientist\"\n",
    "a=[]\n",
    "for i in string.lower():\n",
    "    if i in (\"a\",\"e\",\"i\",\"o\",\"u\"):\n",
    "        a.append(i)\n",
    "len(a)"
   ]
  },
  {
   "cell_type": "code",
   "execution_count": null,
   "id": "6eb1475c-ed54-4966-834a-78beaf1c7f35",
   "metadata": {},
   "outputs": [],
   "source": []
  }
 ],
 "metadata": {
  "kernelspec": {
   "display_name": "Python 3 (ipykernel)",
   "language": "python",
   "name": "python3"
  },
  "language_info": {
   "codemirror_mode": {
    "name": "ipython",
    "version": 3
   },
   "file_extension": ".py",
   "mimetype": "text/x-python",
   "name": "python",
   "nbconvert_exporter": "python",
   "pygments_lexer": "ipython3",
   "version": "3.10.8"
  }
 },
 "nbformat": 4,
 "nbformat_minor": 5
}
