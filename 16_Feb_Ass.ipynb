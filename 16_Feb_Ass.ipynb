{
 "cells": [
  {
   "cell_type": "markdown",
   "id": "523cadf9-352c-40df-9c61-f328b4b1e643",
   "metadata": {},
   "source": [
    "#### Q1. What is a database? Differentiate between SQL and NoSQL databases."
   ]
  },
  {
   "cell_type": "markdown",
   "id": "02cee439-0dae-4863-9a52-67fccf39af7d",
   "metadata": {},
   "source": [
    "\n",
    "    Database is an organized collection of data that can be easily accessed, managed and updated.\n",
    "    Databases are used to store and manage data for various applications such as website, mobile application and enterprise system."
   ]
  },
  {
   "cell_type": "markdown",
   "id": "7de5dc08-f448-4708-b7a4-2e3d92e73047",
   "metadata": {},
   "source": [
    "            Differentiate between SQL and NoSQL databases."
   ]
  },
  {
   "cell_type": "markdown",
   "id": "c63584ea-7b58-458e-a71d-24451ee39064",
   "metadata": {},
   "source": [
    "SQL database also known as relational databases use structured query language(SQL) to manage and manipulate data.\n",
    "SQL databases store data in tables with rows and columns, and these tables are related to each other by common fields or keys.\n",
    "Example:- Microsoft SQL Server, Oracle and MySQL."
   ]
  },
  {
   "cell_type": "markdown",
   "id": "b5c57fa1-0c07-49cc-9553-197a05bb5e88",
   "metadata": {},
   "source": [
    "NoSQL database, on other hand, do not use SQL for data management insted to NoSQL database use a variety of data models such as document oriented, key-value, or graph to store data.\n",
    "For Example:- MongoDB, Cassandra and Redis."
   ]
  },
  {
   "cell_type": "markdown",
   "id": "33e3028e-89c7-4341-b187-89235417c4c1",
   "metadata": {},
   "source": [
    "### Q2. What is DDL? Explain why CREATE, DROP, ALTER, and TRUNCATE are used with an example."
   ]
  },
  {
   "cell_type": "markdown",
   "id": "2c816336-c6f0-40d7-b037-3f57cb90c3ef",
   "metadata": {},
   "source": [
    "DDL stands for Data Definition Language, and it is a set of SQL commands used to define and manipulate the structure of database objects such as tables, indexes, and views. DDL commands allow database administrators and developers to create, modify, and delete database objects."
   ]
  },
  {
   "cell_type": "markdown",
   "id": "58c9bccc-7886-4487-893e-d1ed36d5d309",
   "metadata": {},
   "source": [
    "CREATE: The CREATE command is used to create a new database object, such as a table or an index. For example, the following SQL statement creates a new table called \"customers\" with columns for customer ID, name, and email:\n",
    "CREATE TABLE customers (\n",
    "  name VARCHAR(50),\n",
    "  email VARCHAR(50)\n",
    ");"
   ]
  },
  {
   "cell_type": "markdown",
   "id": "76337261-2801-42df-a5df-1eda7edfbb6b",
   "metadata": {},
   "source": [
    "DROP: The DROP command is used to delete a database object, such as a table or an index. For example, the following SQL statement drops the \"customers\" table:\n",
    "DROP TABLE customers;"
   ]
  },
  {
   "cell_type": "markdown",
   "id": "5e75c4e4-989a-4283-b4ce-ff215c0819bc",
   "metadata": {},
   "source": [
    "ALTER: The ALTER command is used to modify the structure of a database object. For example, the following SQL statement adds a new column called \"phone\" to the \"customers\" table:\n",
    "ALTER TABLE customers ADD COLUMN phone VARCHAR(20);"
   ]
  },
  {
   "cell_type": "markdown",
   "id": "9ef7f842-14f0-42c9-b829-295a4d5dcb43",
   "metadata": {},
   "source": [
    "TRUNCATE: The TRUNCATE command is used to remove all data from a table, but the table structure remains intact. This command is often used to quickly clear the data from a table without dropping and recreating it. For example, the following SQL statement truncates the \"customers\" table:\n",
    "TRUNCATE TABLE customers;"
   ]
  },
  {
   "cell_type": "markdown",
   "id": "d26833c9-531e-4243-82e8-53e6df629721",
   "metadata": {},
   "source": [
    "### Q3. What is DML? Explain INSERT, UPDATE, and DELETE with an example."
   ]
  },
  {
   "cell_type": "markdown",
   "id": "98f27d1c-90b6-42b2-b114-e8936b62d06c",
   "metadata": {},
   "source": [
    "DML stands for Data Manipulation Language, and it is a set of SQL commands used to insert, update, and delete data in a database. DML commands allow database administrators and developers to manipulate the data stored in database objects such as tables, views, and indexes."
   ]
  },
  {
   "cell_type": "markdown",
   "id": "d85e6369-3d61-4e67-8e20-e34e11e3620e",
   "metadata": {},
   "source": [
    "INSERT: The INSERT command is used to add new rows of data to a table. For example, the following SQL statement inserts a new record into the \"customers\" table with values for the customer ID, name, and email columns:\n",
    "INSERT INTO customers (id, name, email)\n",
    "VALUES (1, 'John Doe', 'john.doe@example.com');"
   ]
  },
  {
   "cell_type": "markdown",
   "id": "658d5d59-c5bb-45b2-bbc1-869cda8d09cb",
   "metadata": {},
   "source": [
    "UPDATE: The UPDATE command is used to modify existing data in a table. For example, the following SQL statement updates the email address for the customer with ID 1 in the \"customers\" table:\n",
    "UPDATE customers\n",
    "SET email = 'johndoe@example.com'\n",
    "WHERE id = 1;"
   ]
  },
  {
   "cell_type": "markdown",
   "id": "939a5d0f-8da6-47cd-8343-889879330eca",
   "metadata": {},
   "source": [
    "DELETE: The DELETE command is used to remove one or more rows of data from a table. For example, the following SQL statement deletes the record for the customer with ID 1 from the \"customers\" table:\n",
    "DELETE FROM customers\n",
    "WHERE id = 1;"
   ]
  },
  {
   "cell_type": "markdown",
   "id": "b7f34f79-1053-4f96-b1f6-303835611fa8",
   "metadata": {},
   "source": [
    "### Q4. What is DQL? Explain SELECT with an example."
   ]
  },
  {
   "cell_type": "markdown",
   "id": "267be56c-9e26-470e-abac-d7a9d362b99e",
   "metadata": {},
   "source": [
    "DQL stands for Data Query Language, and it is a set of SQL commands used to retrieve data from a database. DQL commands allow database administrators and developers to extract information from database objects such as tables, views, and indexes."
   ]
  },
  {
   "cell_type": "markdown",
   "id": "4b0d8255-c2ee-43c1-b12b-7e6e0a928c89",
   "metadata": {},
   "source": [
    "SELECT: The SELECT command is used to retrieve data from one or more tables. The SELECT command allows you to specify which columns you want to retrieve and which conditions you want to filter the data by.\n",
    "For Example:- SELECT * FROM customers;"
   ]
  },
  {
   "cell_type": "markdown",
   "id": "06a5679b-2ec8-4c0f-b8aa-8c38850fcf6b",
   "metadata": {},
   "source": [
    "### Q5. Explain Primary Key and Foreign Key."
   ]
  },
  {
   "cell_type": "markdown",
   "id": "2d53b40c-23b0-48da-a6a6-34c93a1d8d07",
   "metadata": {},
   "source": [
    "A primary key is a unique identifier for a row in a database table. It is a column or a combination of columns that uniquely identifies each record in a table. A primary key is used to enforce data integrity and ensure that each row in a table is unique. Primary keys are essential for database normalization and are often used as the basis for defining relationships between tables.CREATE TABLE customers (\n",
    "  id INT PRIMARY KEY,\n",
    "  name VARCHAR(50),\n",
    "  email VARCHAR(50)\n",
    ");"
   ]
  },
  {
   "cell_type": "markdown",
   "id": "537531ec-c288-457b-9b2f-41f2dc1a81e3",
   "metadata": {},
   "source": [
    "CREATE TABLE customers (\n",
    "  id INT PRIMARY KEY,\n",
    "  name VARCHAR(50),\n",
    "  email VARCHAR(50)\n",
    ");"
   ]
  },
  {
   "cell_type": "markdown",
   "id": "17c7347a-547e-4b6a-bf95-6616cb871ccf",
   "metadata": {},
   "source": [
    "A foreign key is a column or a combination of columns that references the primary key of another table. It is used to define a relationship between two tables and enforce referential integrity. A foreign key constraint ensures that the values in the foreign key column(s) match the values in the primary key column(s) of the referenced table."
   ]
  },
  {
   "cell_type": "markdown",
   "id": "ebe5a22d-aee5-4a57-a0eb-6bcd88178e2c",
   "metadata": {},
   "source": [
    "CREATE TABLE orders (\n",
    "  id INT PRIMARY KEY,\n",
    "  customer_id INT,\n",
    "  order_date DATE,\n",
    "  FOREIGN KEY (customer_id) REFERENCES customers(id)\n",
    ");"
   ]
  },
  {
   "cell_type": "markdown",
   "id": "412a76e3-e578-4fda-8dc8-2eb837a7f423",
   "metadata": {},
   "source": [
    "### Q6. Write a python code to connect MySQL to python. Explain the cursor() and execute() method."
   ]
  },
  {
   "cell_type": "markdown",
   "id": "0b5f4dbd-a49c-46bb-b639-6b810e1e22a2",
   "metadata": {},
   "source": [
    "import mysql.connector\n",
    "\n",
    "mydb = mysql.connector.connect(\n",
    "  host=\"localhost\",\n",
    "  user=\"abc\",\n",
    "  password=\"password\"\n",
    ")\n",
    "mycursor = mydb.cursor()\n",
    "mycursor.execute(\"select * from test2.test_table\")\n",
    "for i in mycursor.fetchall():\n",
    "    print(i)\n",
    "mydb.commit()\n",
    "mydb.close()"
   ]
  },
  {
   "cell_type": "markdown",
   "id": "7e92f7db-87c1-4172-93b0-9c3c6236d12e",
   "metadata": {},
   "source": [
    "we create a cursor object using the cursor() method of the connection object. The cursor object is used to execute SQL queries and fetch the results."
   ]
  },
  {
   "cell_type": "markdown",
   "id": "c927d2a8-11b1-49ca-b4ab-896c62a5e850",
   "metadata": {},
   "source": [
    "We then execute a simple SQL query using the execute() method of the cursor object. The execute() method takes a SQL query as an argument and executes it on the database."
   ]
  },
  {
   "cell_type": "markdown",
   "id": "767ef548-c1a8-4167-b127-047b4c2f9a89",
   "metadata": {},
   "source": [
    "### Q7. Give the order of execution of SQL clauses in an SQL query."
   ]
  },
  {
   "cell_type": "raw",
   "id": "764c743a-e61c-4214-9f99-812f39fb464c",
   "metadata": {},
   "source": [
    "The order of execution of SQL clauses in an SQL query is as follows:\n",
    "\n",
    "FROM: The FROM clause specifies the tables or views from which the data will be retrieved.\n",
    "\n",
    "JOIN: If the query involves a join operation, the join is performed next. Join clauses combine rows from two or more tables based on a related column between them.\n",
    "\n",
    "WHERE: The WHERE clause filters the rows returned by the query based on a specified condition or set of conditions.\n",
    "\n",
    "GROUP BY: The GROUP BY clause groups the rows returned by the query based on one or more columns. Aggregate functions such as COUNT, SUM, AVG, MAX, and MIN can then be applied to each group.\n",
    "\n",
    "HAVING: The HAVING clause filters the groups returned by the GROUP BY clause based on a specified condition or set of conditions.\n",
    "\n",
    "SELECT: The SELECT clause selects the columns to be included in the result set.\n",
    "\n",
    "DISTINCT: The DISTINCT keyword eliminates duplicate rows from the result set.\n",
    "\n",
    "ORDER BY: The ORDER BY clause sorts the rows in the result set based on one or more columns.\n",
    "\n",
    "LIMIT: The LIMIT clause limits the number of rows returned by the query to a specified number."
   ]
  }
 ],
 "metadata": {
  "kernelspec": {
   "display_name": "Python 3 (ipykernel)",
   "language": "python",
   "name": "python3"
  },
  "language_info": {
   "codemirror_mode": {
    "name": "ipython",
    "version": 3
   },
   "file_extension": ".py",
   "mimetype": "text/x-python",
   "name": "python",
   "nbconvert_exporter": "python",
   "pygments_lexer": "ipython3",
   "version": "3.10.8"
  }
 },
 "nbformat": 4,
 "nbformat_minor": 5
}
