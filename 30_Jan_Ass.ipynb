{
 "cells": [
  {
   "cell_type": "markdown",
   "id": "6ca7033b-5ebb-45e4-98a5-3196bad78fa6",
   "metadata": {},
   "source": [
    "### 1. Write a program to accept percentage from the user and display the grade according to the following criteria: \n",
    "Marks \n",
    "Grade \n",
    ">90 \n",
    "A \n",
    ">80 and <=90 \n",
    "B \n",
    ">=60 and <=80 \n",
    "C \n",
    "below 60 \n",
    "D "
   ]
  },
  {
   "cell_type": "code",
   "execution_count": 1,
   "id": "7530e62d-7b52-4421-8e5d-8c2f1034651e",
   "metadata": {},
   "outputs": [
    {
     "name": "stdin",
     "output_type": "stream",
     "text": [
      "Enter percentage:  80\n"
     ]
    },
    {
     "name": "stdout",
     "output_type": "stream",
     "text": [
      "Grade: C\n"
     ]
    }
   ],
   "source": [
    "percentage = float(input(\"Enter percentage: \"))\n",
    "\n",
    "if percentage > 90:\n",
    "    grade = \"A\"\n",
    "elif percentage > 80:\n",
    "    grade = \"B\"\n",
    "elif percentage >= 60:\n",
    "    grade = \"C\"\n",
    "else:\n",
    "    grade = \"D\"\n",
    "\n",
    "print(\"Grade:\", grade)"
   ]
  },
  {
   "cell_type": "markdown",
   "id": "743c1984-11b3-4e2c-97eb-4652bf68564d",
   "metadata": {},
   "source": [
    "### 2. Write a program to accept the cost price of a bike and display the road tax to be paid according to the following criteria: "
   ]
  },
  {
   "cell_type": "code",
   "execution_count": 2,
   "id": "5c133fac-c362-4682-8585-8b092154ca32",
   "metadata": {},
   "outputs": [
    {
     "name": "stdin",
     "output_type": "stream",
     "text": [
      "Enter the cost price of a bike: 50000\n"
     ]
    },
    {
     "name": "stdout",
     "output_type": "stream",
     "text": [
      "Road tax to be paid:  5000.0\n"
     ]
    }
   ],
   "source": [
    "Cost_price=float(input(\"Enter the cost price of a bike:\"))\n",
    "\n",
    "if Cost_price>100000:\n",
    "    tax_price=Cost_price*0.15\n",
    "elif Cost_price>50000:\n",
    "    tax_price=Cost_price*0.10\n",
    "else:\n",
    "    tax_price=Cost_price*0.10\n",
    "    \n",
    "print(\"Road tax to be paid: \",tax_price)"
   ]
  },
  {
   "cell_type": "markdown",
   "id": "53a8a42b-563f-4c27-b7a1-79c392afabea",
   "metadata": {},
   "source": [
    "### 3. Accept any city from the user and display monuments of that city."
   ]
  },
  {
   "cell_type": "code",
   "execution_count": 3,
   "id": "d169d89b-b1c5-44df-983f-9fd86a88e309",
   "metadata": {},
   "outputs": [
    {
     "name": "stdin",
     "output_type": "stream",
     "text": [
      "Enter the city name: Delhi\n"
     ]
    },
    {
     "name": "stdout",
     "output_type": "stream",
     "text": [
      "display monuments:  Red Fort\n"
     ]
    }
   ],
   "source": [
    "City=input(\"Enter the city name:\")\n",
    "\n",
    "if City==\"Delhi\":\n",
    "    monuments=\"Red Fort\"\n",
    "elif City==\"Agra\":\n",
    "    monuments=\"Taj Mahal\"\n",
    "else:\n",
    "    monuments=\"Jal Mahal\"\n",
    "    \n",
    "print(\"display monuments: \",monuments)"
   ]
  },
  {
   "cell_type": "markdown",
   "id": "3dfc470e-5136-4580-bf10-e71df33a066f",
   "metadata": {},
   "source": [
    "### 4. Check how many times a given number can be divided by 3 before it is less than or equal to 10."
   ]
  },
  {
   "cell_type": "code",
   "execution_count": 4,
   "id": "bee4cc86-2069-4086-88e6-9532f722d8cf",
   "metadata": {},
   "outputs": [
    {
     "name": "stdin",
     "output_type": "stream",
     "text": [
      "Enter the number:  10\n"
     ]
    },
    {
     "name": "stdout",
     "output_type": "stream",
     "text": [
      "The number can be divided by 3  0 times before it is less than or equal to 10.\n"
     ]
    }
   ],
   "source": [
    "number = int(input(\"Enter the number: \"))\n",
    "count=0\n",
    "for i in range(1,10,-1):\n",
    "    if i//3>0:\n",
    "        count+=1\n",
    "    else:\n",
    "        break\n",
    "print(\"The number can be divided by 3 \",count,\"times before it is less than or equal to 10.\")"
   ]
  },
  {
   "cell_type": "markdown",
   "id": "4bf45084-2eba-45a1-8a7d-6a78804f5704",
   "metadata": {},
   "source": [
    "### 5. Why and When to Use while Loop in Python give a detailed description with examples."
   ]
  },
  {
   "cell_type": "markdown",
   "id": "c3c19763-5f9c-497e-9500-8e0228b40f8b",
   "metadata": {},
   "source": [
    "In Python, a while loop is used when you want to execute a block of code repeatedly as long as a certain condition is true. The loop will continue executing as long as the condition remains true, and will exit when the condition becomes false."
   ]
  },
  {
   "cell_type": "code",
   "execution_count": 5,
   "id": "0dc80ea1-9034-4049-9708-4437907fbe5a",
   "metadata": {},
   "outputs": [
    {
     "name": "stdin",
     "output_type": "stream",
     "text": [
      "Enter an integer:  10\n"
     ]
    }
   ],
   "source": [
    "while True:\n",
    "    try:\n",
    "        x = int(input(\"Enter an integer: \"))\n",
    "        break\n",
    "    except ValueError:\n",
    "        print(\"That's not a valid integer. Try again.\")"
   ]
  },
  {
   "cell_type": "markdown",
   "id": "33931429-4c76-46c5-a6c9-bc45fef97295",
   "metadata": {},
   "source": [
    "### 6. Use a nested while loop to print 3 different patterns."
   ]
  },
  {
   "cell_type": "code",
   "execution_count": 6,
   "id": "1493bbae-d60b-48e4-a09b-8742d49e0326",
   "metadata": {},
   "outputs": [
    {
     "name": "stdout",
     "output_type": "stream",
     "text": [
      "****\n",
      "***\n",
      "**\n",
      "*\n",
      "\n"
     ]
    }
   ],
   "source": [
    " #Use a nested while loop to print 3 different patterns.\n",
    "i=5\n",
    "while i>=1:\n",
    "    j=1\n",
    "    i-=1\n",
    "    while j<=i:\n",
    "        j+=1\n",
    "        print(\"*\",end=\"\")\n",
    "    print()"
   ]
  },
  {
   "cell_type": "code",
   "execution_count": 7,
   "id": "ea3775dc-70ce-4166-a753-052d541c6f46",
   "metadata": {},
   "outputs": [
    {
     "name": "stdout",
     "output_type": "stream",
     "text": [
      "*\n",
      "**\n",
      "***\n",
      "****\n",
      "*****\n",
      "******\n"
     ]
    }
   ],
   "source": [
    "i=0\n",
    "while i<=5:\n",
    "    j=1\n",
    "    i+=1\n",
    "    while j<=i:\n",
    "        j+=1\n",
    "        print(\"*\",end=\"\")\n",
    "    print()"
   ]
  },
  {
   "cell_type": "code",
   "execution_count": 8,
   "id": "c6a12120-0713-4030-a927-eba99dc637d0",
   "metadata": {},
   "outputs": [
    {
     "name": "stdout",
     "output_type": "stream",
     "text": [
      "1\n",
      "22\n",
      "333\n",
      "4444\n",
      "55555\n",
      "666666\n"
     ]
    }
   ],
   "source": [
    "i=0\n",
    "while i<=5:\n",
    "    j=1\n",
    "    i+=1\n",
    "    while j<=i:\n",
    "        j+=1\n",
    "        print(i,end=\"\")\n",
    "    print()"
   ]
  },
  {
   "cell_type": "markdown",
   "id": "58b2e9af-ae2d-4f60-8acb-23b39aa84231",
   "metadata": {},
   "source": [
    "### 7. Reverse a while loop to display numbers from 10 to 1."
   ]
  },
  {
   "cell_type": "code",
   "execution_count": 9,
   "id": "ac333777-69c2-471d-8cb1-96cebc78d943",
   "metadata": {},
   "outputs": [
    {
     "name": "stdout",
     "output_type": "stream",
     "text": [
      "10\n",
      "9\n",
      "8\n",
      "7\n",
      "6\n",
      "5\n",
      "4\n",
      "3\n",
      "2\n",
      "1\n"
     ]
    }
   ],
   "source": [
    "count=11\n",
    "while count>1:\n",
    "    count=count-1\n",
    "    print(count)"
   ]
  },
  {
   "cell_type": "markdown",
   "id": "dff127c5-f6b1-4eb2-9a9e-7f61373cc78c",
   "metadata": {},
   "source": [
    "### 8. Reverse a while loop to display numbers from 10 to 1."
   ]
  },
  {
   "cell_type": "code",
   "execution_count": 10,
   "id": "ee422443-239e-4222-a869-bb2303b9ca0f",
   "metadata": {},
   "outputs": [
    {
     "name": "stdout",
     "output_type": "stream",
     "text": [
      "10\n",
      "9\n",
      "8\n",
      "7\n",
      "6\n",
      "5\n",
      "4\n",
      "3\n",
      "2\n",
      "1\n"
     ]
    }
   ],
   "source": [
    "count=11\n",
    "while count>1:\n",
    "    count=count-1\n",
    "    print(count)"
   ]
  },
  {
   "cell_type": "code",
   "execution_count": null,
   "id": "03fe837e-1b1b-4a32-8455-212ac70a31bd",
   "metadata": {},
   "outputs": [],
   "source": []
  }
 ],
 "metadata": {
  "kernelspec": {
   "display_name": "Python 3 (ipykernel)",
   "language": "python",
   "name": "python3"
  },
  "language_info": {
   "codemirror_mode": {
    "name": "ipython",
    "version": 3
   },
   "file_extension": ".py",
   "mimetype": "text/x-python",
   "name": "python",
   "nbconvert_exporter": "python",
   "pygments_lexer": "ipython3",
   "version": "3.10.8"
  }
 },
 "nbformat": 4,
 "nbformat_minor": 5
}
