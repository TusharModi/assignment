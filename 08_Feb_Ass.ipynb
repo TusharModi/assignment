{
 "cells": [
  {
   "cell_type": "markdown",
   "id": "14fce2ab-4243-43cb-b128-cc1bc8940e7f",
   "metadata": {},
   "source": [
    "### Q1. What is Abstraction in OOps? Explain with an example."
   ]
  },
  {
   "cell_type": "markdown",
   "id": "9ce90f17-da7b-459c-a6a7-4092c82a2181",
   "metadata": {},
   "source": [
    "Abstraction in python is defined as a process of handling complexity by hiding unnecessary information from the user."
   ]
  },
  {
   "cell_type": "code",
   "execution_count": 1,
   "id": "4f839e27-6e1b-4084-bb01-2bc6ad937a1a",
   "metadata": {},
   "outputs": [],
   "source": [
    "from abc import ABC,abstractmethod\n",
    "class BankApp(ABC):\n",
    "    \n",
    "    def database(self):\n",
    "        print('connected database')\n",
    "        \n",
    "    @abstractmethod\n",
    "    def security(self):\n",
    "        pass\n",
    "    \n",
    "    @abstractmethod\n",
    "    def display(self):\n",
    "        pass\n",
    "    \n",
    "class MobileApp(BankApp):\n",
    "    def mobile_login(self):\n",
    "        print('login into mobile')\n",
    "        \n",
    "    def security(self):\n",
    "        print('Mobile Application security')\n",
    "    \n",
    "    def display(self):\n",
    "        print('Mobile Application display')\n",
    "        \n",
    "class WebApp(BankApp):\n",
    "    def security(self):\n",
    "        print('Web Application security')\n",
    "    \n",
    "    def display(self):\n",
    "        print('Web Application display')"
   ]
  },
  {
   "cell_type": "code",
   "execution_count": 2,
   "id": "af5a5d59-55b1-426d-a01d-d1a199e21dcd",
   "metadata": {},
   "outputs": [],
   "source": [
    "ma=MobileApp()"
   ]
  },
  {
   "cell_type": "code",
   "execution_count": 3,
   "id": "e4fed024-83c0-4d34-a826-c018fb8f9f53",
   "metadata": {},
   "outputs": [
    {
     "name": "stdout",
     "output_type": "stream",
     "text": [
      "connected database\n"
     ]
    }
   ],
   "source": [
    "ma.database()"
   ]
  },
  {
   "cell_type": "code",
   "execution_count": 4,
   "id": "2e202236-792d-4d36-bdb1-9b825566bd80",
   "metadata": {},
   "outputs": [
    {
     "name": "stdout",
     "output_type": "stream",
     "text": [
      "Mobile Application security\n"
     ]
    }
   ],
   "source": [
    "ma.security()"
   ]
  },
  {
   "cell_type": "code",
   "execution_count": 5,
   "id": "8608152a-6c13-471b-b2af-3dbc85e3968c",
   "metadata": {},
   "outputs": [
    {
     "name": "stdout",
     "output_type": "stream",
     "text": [
      "Mobile Application display\n"
     ]
    }
   ],
   "source": [
    "ma.display()"
   ]
  },
  {
   "cell_type": "code",
   "execution_count": 6,
   "id": "e0b87b47-968a-44e8-a3f8-c526c1514260",
   "metadata": {},
   "outputs": [],
   "source": [
    "web=WebApp()"
   ]
  },
  {
   "cell_type": "code",
   "execution_count": 7,
   "id": "2749969e-7626-4bdd-8ea8-630811ba234f",
   "metadata": {},
   "outputs": [
    {
     "name": "stdout",
     "output_type": "stream",
     "text": [
      "connected database\n"
     ]
    }
   ],
   "source": [
    "web.database()"
   ]
  },
  {
   "cell_type": "code",
   "execution_count": 8,
   "id": "41b1b55d-6e5c-42f6-a04a-62db6239a58a",
   "metadata": {},
   "outputs": [
    {
     "name": "stdout",
     "output_type": "stream",
     "text": [
      "Web Application security\n"
     ]
    }
   ],
   "source": [
    "web.security()"
   ]
  },
  {
   "cell_type": "code",
   "execution_count": 9,
   "id": "2b6ad70b-47de-4e7e-ab20-d3f8b245c4ab",
   "metadata": {},
   "outputs": [
    {
     "name": "stdout",
     "output_type": "stream",
     "text": [
      "Web Application display\n"
     ]
    }
   ],
   "source": [
    "web.display()"
   ]
  },
  {
   "cell_type": "markdown",
   "id": "19ab6d65-c20e-4800-83db-4c113263a3f5",
   "metadata": {},
   "source": [
    "### Q2. Differentiate between Abstraction and Encapsulation. Explain with an example."
   ]
  },
  {
   "cell_type": "markdown",
   "id": "c690a9d5-6a4a-4e4c-9f22-89e1c21fc571",
   "metadata": {},
   "source": [
    "-Abstraction in python is defined as a process of handling complexity by hiding unnecessary information from the user.\n",
    "-Encapsulation is a mechanism of wrapping the data and code acting on data together as a single unit.\n",
    "In encapsulation, the variable of the class will be hidden from other classes, can be accessed only through the methods of their current class.\n",
    "-Abstration is design level process.\n",
    "-Encapsulation is implementation level process.\n",
    "-Abstraction is concerned about what a class instance can do, instead of the implementation of the class.\n",
    "-Encapsulation helps in data binding and control over maintaining the transparency of the data.\n",
    "-Abstraction is a design level process and it is used to reduce the complexity at the designing stage of a project.\n",
    "-Encapsulation is an implementation level process, and it is used to provide privacy and maintain control over the transparency of data at the implementation stage of a project."
   ]
  },
  {
   "cell_type": "code",
   "execution_count": 10,
   "id": "8e838ff6-2825-4927-8b9f-972d2d6aee13",
   "metadata": {},
   "outputs": [],
   "source": [
    "from abc import ABC,abstractmethod\n",
    "class BankApp(ABC):\n",
    "    \n",
    "    def database(self):\n",
    "        print('connected database')\n",
    "        \n",
    "    @abstractmethod\n",
    "    def security(self):\n",
    "        pass\n",
    "    \n",
    "    @abstractmethod\n",
    "    def display(self):\n",
    "        pass\n",
    "    \n",
    "class MobileApp(BankApp):\n",
    "    def mobile_login(self):\n",
    "        print('login into mobile')\n",
    "        \n",
    "    def security(self):\n",
    "        print('Mobile Application security')\n",
    "    \n",
    "    def display(self):\n",
    "        print('Mobile Application display')"
   ]
  },
  {
   "cell_type": "code",
   "execution_count": 11,
   "id": "eed472e5-d99f-4a5d-a649-43609a50e172",
   "metadata": {},
   "outputs": [
    {
     "name": "stdout",
     "output_type": "stream",
     "text": [
      "Mobile Application security\n"
     ]
    }
   ],
   "source": [
    "ma=MobileApp()\n",
    "ma.security()"
   ]
  },
  {
   "cell_type": "code",
   "execution_count": 21,
   "id": "e38eeea2-9c3f-4c40-9516-2c385e8b4c26",
   "metadata": {},
   "outputs": [],
   "source": [
    "#Encapsulation\n",
    "\n",
    "class Atm:\n",
    "    \n",
    "    def __init__(self):\n",
    "        # print(id(self))\n",
    "        self.pin=''\n",
    "        self.__balance=0\n",
    "    \n",
    "    def get_balance(self):\n",
    "        return self.__balance\n",
    "    \n",
    "    def set_balance(self,new_value):\n",
    "        if type(new_value)==int:\n",
    "            self.__balance=new_value\n",
    "        else:\n",
    "            print('not set')\n",
    "        \n",
    "    def __menu(self):\n",
    "        user_input=input(\"\"\"\n",
    "        Hi how can I help you?\n",
    "        1. Press 1 to create pin\n",
    "        2. Press 2 to change pin\n",
    "        3. Press 3 to check balance\n",
    "        4. Press 4 to withdraw\n",
    "        5. Anything else to exit\n",
    "        \"\"\")\n",
    "        if user_input=='1':\n",
    "            self.create_pin()\n",
    "        elif user_input=='2':\n",
    "            self.change_pin()\n",
    "        elif user_input=='3':\n",
    "            self.check_balance()\n",
    "        elif user_input=='4':\n",
    "            self.withdraw()\n",
    "        else:\n",
    "            exit()\n",
    "    def create_pin(self):\n",
    "        user_pin=input('enter your pin')\n",
    "        self.pin=user_pin\n",
    "            \n",
    "        # user_balance=int(input('enter balance'))\n",
    "        # self.__balance=user_balance\n",
    "            \n",
    "        print('pin created successfully')\n",
    "    def change_pin(self):\n",
    "        old_pin=input('enter old pin')\n",
    "            \n",
    "        if old_pin==self.pin:\n",
    "            new_pin=input('enter new pin')\n",
    "            self.pin=new_pin\n",
    "            print('pin change successful')\n",
    "        else:\n",
    "            print('Does not match pin')\n",
    "        \n",
    "    def check_balance(self):\n",
    "        user_pin=input('enter your pin')\n",
    "        if user_pin==self.pin:\n",
    "            print('your balance:' ,self.__balance)\n",
    "        else:\n",
    "            print('pin does not match')\n",
    "        \n",
    "    def withdraw(self):\n",
    "        user_pin=input('enter your pin')\n",
    "        if user_pin==self.pin:\n",
    "            amount=int(input('enter the amount'))\n",
    "            if amount <=self.__balance:\n",
    "                self.__balance=self.__balance-amount\n",
    "                print('Withdraw successful.balance is',self.__balance)\n",
    "            else:\n",
    "                print('You cannot withdraw')\n",
    "        else:\n",
    "            print('pin doesnot match')"
   ]
  },
  {
   "cell_type": "code",
   "execution_count": 22,
   "id": "2439c9a6-2531-46c6-8134-6636c3b329ff",
   "metadata": {},
   "outputs": [],
   "source": [
    "at=Atm()"
   ]
  },
  {
   "cell_type": "code",
   "execution_count": 23,
   "id": "4cb4690c-223e-43c0-a20e-781df40e0b70",
   "metadata": {},
   "outputs": [
    {
     "data": {
      "text/plain": [
       "0"
      ]
     },
     "execution_count": 23,
     "metadata": {},
     "output_type": "execute_result"
    }
   ],
   "source": [
    "at.get_balance()"
   ]
  },
  {
   "cell_type": "code",
   "execution_count": 24,
   "id": "ac355544-926f-4997-84bc-e0c846c1862e",
   "metadata": {},
   "outputs": [],
   "source": [
    "at.set_balance(1000)"
   ]
  },
  {
   "cell_type": "code",
   "execution_count": 25,
   "id": "c6a86057-dfa8-45c4-a6fa-6a298645d412",
   "metadata": {},
   "outputs": [
    {
     "data": {
      "text/plain": [
       "1000"
      ]
     },
     "execution_count": 25,
     "metadata": {},
     "output_type": "execute_result"
    }
   ],
   "source": [
    "at.get_balance()"
   ]
  },
  {
   "cell_type": "code",
   "execution_count": 26,
   "id": "fe66de12-d840-4888-a03b-14cd89ed4f3a",
   "metadata": {},
   "outputs": [
    {
     "name": "stdin",
     "output_type": "stream",
     "text": [
      "enter your pin 123\n"
     ]
    },
    {
     "name": "stdout",
     "output_type": "stream",
     "text": [
      "pin created successfully\n"
     ]
    }
   ],
   "source": [
    "at.create_pin()"
   ]
  },
  {
   "cell_type": "code",
   "execution_count": 27,
   "id": "cf89521f-a1c0-4cf4-a08c-994060a7ca6d",
   "metadata": {},
   "outputs": [
    {
     "name": "stdin",
     "output_type": "stream",
     "text": [
      "enter old pin 123\n",
      "enter new pin 1234\n"
     ]
    },
    {
     "name": "stdout",
     "output_type": "stream",
     "text": [
      "pin change successful\n"
     ]
    }
   ],
   "source": [
    "at.change_pin()"
   ]
  },
  {
   "cell_type": "code",
   "execution_count": 28,
   "id": "87677eac-dffc-445a-92e0-95a998dc57cf",
   "metadata": {},
   "outputs": [
    {
     "name": "stdin",
     "output_type": "stream",
     "text": [
      "enter your pin 1234\n"
     ]
    },
    {
     "name": "stdout",
     "output_type": "stream",
     "text": [
      "your balance: 1000\n"
     ]
    }
   ],
   "source": [
    "at.check_balance()"
   ]
  },
  {
   "cell_type": "code",
   "execution_count": 29,
   "id": "fe93d24f-5d7f-4440-b3f8-054a955a1d20",
   "metadata": {},
   "outputs": [
    {
     "name": "stdin",
     "output_type": "stream",
     "text": [
      "enter your pin 1234\n",
      "enter the amount 500\n"
     ]
    },
    {
     "name": "stdout",
     "output_type": "stream",
     "text": [
      "Withdraw successful.balance is 500\n"
     ]
    }
   ],
   "source": [
    "at.withdraw()"
   ]
  },
  {
   "cell_type": "markdown",
   "id": "9f356d65-209c-4ce4-9883-3e04542b4762",
   "metadata": {},
   "source": [
    "### Q3. What is abc module in python? Why is it used?"
   ]
  },
  {
   "cell_type": "markdown",
   "id": "b119f5b8-36ac-4f3e-bc2a-1e92e3be2035",
   "metadata": {},
   "source": [
    "This proposal defines a hierarchy of Abstract Base Classes (ABCs) (PEP 3119) to represent number-like classes. It proposes a hierarchy of Number :> Complex :> Real :> Rational :> Integral where A :> B means “A is a supertype of B”.\n",
    "The 'abc' module in the Python library provides the infrastructure for defining custom abstract base classes. Abstract class cannot be instantiated in python. An Abstract method can be call by its subclasses."
   ]
  },
  {
   "cell_type": "markdown",
   "id": "ed501b6f-3c8f-4e08-ae0e-9c505666a9ba",
   "metadata": {},
   "source": [
    "### Q4. How can we achieve data abstraction?"
   ]
  },
  {
   "cell_type": "markdown",
   "id": "24aa2e9d-da1c-41e1-a4d8-c71c48b61a52",
   "metadata": {},
   "source": [
    "In Python, abstraction can be achieved by having/using abstract classes and methods in our programs. Understanding Abstract Methods and Classes: An abstract method is a method that is declared, but does not contain implementation."
   ]
  },
  {
   "cell_type": "markdown",
   "id": "90dec32b-e351-4f2f-8201-72696de10acf",
   "metadata": {},
   "source": [
    "### Q5. Can we create an instance of an abstract class? Explain your answer."
   ]
  },
  {
   "cell_type": "markdown",
   "id": "e1fc445e-9ab6-47c9-9ef1-4360c3ebf269",
   "metadata": {},
   "source": [
    "Abstract classes cannot be instantiated, but they can be subclassed. When an abstract class is subclassed, the subclass usually provides implementations for all of the abstract methods in its parent class. However, if it does not, then the subclass must also be declared abstract ."
   ]
  }
 ],
 "metadata": {
  "kernelspec": {
   "display_name": "Python 3 (ipykernel)",
   "language": "python",
   "name": "python3"
  },
  "language_info": {
   "codemirror_mode": {
    "name": "ipython",
    "version": 3
   },
   "file_extension": ".py",
   "mimetype": "text/x-python",
   "name": "python",
   "nbconvert_exporter": "python",
   "pygments_lexer": "ipython3",
   "version": "3.10.8"
  }
 },
 "nbformat": 4,
 "nbformat_minor": 5
}
