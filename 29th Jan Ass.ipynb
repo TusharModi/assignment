{
 "cells": [
  {
   "cell_type": "markdown",
   "id": "5f5c6d8d-96f0-405b-8fc6-3a783d617a2e",
   "metadata": {},
   "source": [
    "1. who developed python programming language?"
   ]
  },
  {
   "cell_type": "markdown",
   "id": "875f867b-8505-415d-bff5-14444eb262da",
   "metadata": {},
   "source": [
    "Guido van Rossum is developed python programming language."
   ]
  },
  {
   "cell_type": "markdown",
   "id": "74ae3ef6-9a8e-489d-adc4-8ac8a399b701",
   "metadata": {},
   "source": [
    "2. which type of programming does python support?"
   ]
  },
  {
   "cell_type": "markdown",
   "id": "1276a442-8190-45a3-a978-902c38e4d32c",
   "metadata": {},
   "source": [
    "Python is a multi-paradigm programming language. Object-oriented programming and structured programming are fully supported, and many of their features support functional programming and aspect-oriented programming (including metaprogramming and metaobjects)."
   ]
  },
  {
   "cell_type": "markdown",
   "id": "b6942a28-42f6-493f-9f11-f73e417d5288",
   "metadata": {},
   "source": [
    "3. is python case sensitive when dealing with identifiers?"
   ]
  },
  {
   "cell_type": "markdown",
   "id": "557f7177-677d-4cdc-8bd0-8f306f573432",
   "metadata": {},
   "source": [
    "Yes, Python is a case-sensitive language, i.e., it treats uppercase and lowercase characters differently."
   ]
  },
  {
   "cell_type": "markdown",
   "id": "7fd11a0d-355d-4e5b-b40e-b69af50e27ee",
   "metadata": {},
   "source": [
    "4. what is the correct extension of the python file?"
   ]
  },
  {
   "cell_type": "markdown",
   "id": "c32122bc-81e2-4f22-a1cf-702a9d520c2d",
   "metadata": {},
   "source": [
    ".py is the correct extension of the python file."
   ]
  },
  {
   "cell_type": "markdown",
   "id": "2778a29b-1901-457a-8662-468c41f664d5",
   "metadata": {},
   "source": [
    "5. Is python code compiled or interpreted?"
   ]
  },
  {
   "cell_type": "markdown",
   "id": "eddd7f01-9c79-4f5e-a131-0b7b6fe304e5",
   "metadata": {},
   "source": [
    "Python is an interpreted language, which means the source code of a Python program is converted into bytecode that is then executed by the Python virtual machine."
   ]
  },
  {
   "cell_type": "markdown",
   "id": "f0b9a796-2d15-49c1-abeb-fec09b087bb5",
   "metadata": {},
   "source": [
    "6. name a few blocks of code used to define in python language?"
   ]
  },
  {
   "cell_type": "markdown",
   "id": "ab1eb21f-dd29-4d15-be2f-3979482467d2",
   "metadata": {},
   "source": [
    "Each command typed interactively is a block. A script file (a file given as standard input to the interpreter or specified as a command line argument to the interpreter) is a code block."
   ]
  },
  {
   "cell_type": "markdown",
   "id": "0bb78425-91bd-4a23-8918-b15ca2c3598a",
   "metadata": {},
   "source": [
    "7. state a character used to give single-line comments in python."
   ]
  },
  {
   "cell_type": "markdown",
   "id": "320af37d-d391-45a9-901a-0c2e603010e4",
   "metadata": {},
   "source": [
    "We can write a single-line comment by adding a single # character before any statement or line of code."
   ]
  },
  {
   "cell_type": "code",
   "execution_count": 1,
   "id": "4052da03-f39b-467e-9e31-f181f7e595fc",
   "metadata": {},
   "outputs": [
    {
     "name": "stdout",
     "output_type": "stream",
     "text": [
      "Hello world\n"
     ]
    }
   ],
   "source": [
    "# This is a Comment\n",
    "print(\"Hello world\")"
   ]
  },
  {
   "cell_type": "markdown",
   "id": "1ae259b8-0c0a-45b1-92e8-13791e8408ac",
   "metadata": {},
   "source": [
    "8. mention function which can help us to find the version of python that we are currently working on?"
   ]
  },
  {
   "cell_type": "markdown",
   "id": "f65a364a-a9e4-44b2-87bd-7de5927346c2",
   "metadata": {},
   "source": [
    "The function sys. version can help us to find the version of python that we are currently working on."
   ]
  },
  {
   "cell_type": "markdown",
   "id": "07abb79d-7bbf-4be5-97ec-94f37dd2df30",
   "metadata": {},
   "source": [
    "9. python supports the creation of anonymous functions at runtime using a construct called-------------------"
   ]
  },
  {
   "cell_type": "markdown",
   "id": "7ae9bce1-3382-4ffb-8cb4-4eb7ab351b63",
   "metadata": {},
   "source": [
    "Python supports to make anonymous functions which are not bound to a name(@ runtime). It uses a construct called \"lambda\" ."
   ]
  },
  {
   "cell_type": "markdown",
   "id": "224dbc61-4138-433e-8636-7e7c7d3f8305",
   "metadata": {},
   "source": [
    "10. what does pip stand for python?"
   ]
  },
  {
   "cell_type": "markdown",
   "id": "a46f2ce2-c0eb-4c33-8f8a-a76d77833f20",
   "metadata": {},
   "source": [
    " pip (an acronym of “pip Install Packages”) is today the standard tool for installing Python packages and their dependencies in a secure manner."
   ]
  },
  {
   "cell_type": "markdown",
   "id": "ca406cb1-0412-4719-a79c-fea2b62f480b",
   "metadata": {},
   "source": [
    "11. mention a few built in function in python?"
   ]
  },
  {
   "cell_type": "markdown",
   "id": "2ebfe7c3-2904-46b1-96ea-0542e2fd549a",
   "metadata": {},
   "source": [
    "There are few builit in function.\n",
    "\n",
    "bin(),\n",
    "bool(),\n",
    "bytearray(),\n",
    "bytes()"
   ]
  },
  {
   "cell_type": "markdown",
   "id": "137e3791-db9d-4036-bbdc-2528c4f75c0b",
   "metadata": {},
   "source": [
    "12. what is the maximum possible length of an identifier python?"
   ]
  },
  {
   "cell_type": "markdown",
   "id": "21ae8ace-cc3f-4563-b668-d7bbcb535a6d",
   "metadata": {},
   "source": [
    "An identifier can have a maximum length of 79 characters in Python. Python is one of the most popular programming languages."
   ]
  },
  {
   "cell_type": "markdown",
   "id": "07d5f368-1730-42b1-be71-95e2ae46f2d7",
   "metadata": {},
   "source": [
    "13. what are the benefits of using python?"
   ]
  },
  {
   "cell_type": "markdown",
   "id": "71da625c-55e6-40a2-9541-1f4515008684",
   "metadata": {},
   "source": [
    "Python programming language is a general-purpose, interpreted, and high-level language that mainly offers code readability. It is largely used by professional programmers and developers across a variety of fields, including Web Development and Machine Learning."
   ]
  },
  {
   "cell_type": "markdown",
   "id": "88082919-498c-4793-9d50-06bd45e44432",
   "metadata": {},
   "source": [
    "14. how is memory managed in python?"
   ]
  },
  {
   "cell_type": "markdown",
   "id": "aa3f88ec-679e-4297-b92f-c71a797b5ddf",
   "metadata": {},
   "source": [
    "Memory management in Python involves a private heap containing all Python objects and data structures. The management of this private heap is ensured internally by the Python memory manager."
   ]
  },
  {
   "cell_type": "markdown",
   "id": "e7a6c881-6822-4f44-8a31-6fb266a9966d",
   "metadata": {},
   "source": [
    "15. how to install python on windows and set path variable?"
   ]
  },
  {
   "cell_type": "markdown",
   "id": "1b1b363a-8063-4206-9dd5-8ad098a7aa5f",
   "metadata": {},
   "source": [
    "The complete path of python.exe can be added by:\n",
    "\n",
    "Right-clicking This PC and going to Properties.\n",
    "\n",
    "Clicking on the Advanced system settings in the menu on the left.\n",
    "\n",
    "Clicking on the Environment Variables button o​n the bottom right.\n",
    "\n",
    "In the System variables section, selecting the Path variable and clicking on Edit. The next screen will show all the directories that are currently a part of the PATH variable.\n",
    "\n",
    "Clicking on New and entering Python’s install directory."
   ]
  },
  {
   "cell_type": "markdown",
   "id": "fafb4958-29ac-46f7-80e0-a42e8671cb87",
   "metadata": {},
   "source": [
    "16. is indentation required in python?"
   ]
  },
  {
   "cell_type": "markdown",
   "id": "98a8027d-666c-441f-a024-c2b9cdcbe990",
   "metadata": {},
   "source": [
    "Indentation refers to the spaces at the beginning of a code line. Where in other programming languages the indentation in code is for readability only, the indentation in Python is very important. Python uses indentation to indicate a block of code."
   ]
  },
  {
   "cell_type": "code",
   "execution_count": null,
   "id": "91d64857-d68f-4d39-8114-1c47d68c1b28",
   "metadata": {},
   "outputs": [],
   "source": []
  }
 ],
 "metadata": {
  "kernelspec": {
   "display_name": "Python 3 (ipykernel)",
   "language": "python",
   "name": "python3"
  },
  "language_info": {
   "codemirror_mode": {
    "name": "ipython",
    "version": 3
   },
   "file_extension": ".py",
   "mimetype": "text/x-python",
   "name": "python",
   "nbconvert_exporter": "python",
   "pygments_lexer": "ipython3",
   "version": "3.10.8"
  }
 },
 "nbformat": 4,
 "nbformat_minor": 5
}
