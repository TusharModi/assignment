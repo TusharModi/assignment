{
 "cells": [
  {
   "cell_type": "markdown",
   "id": "2d96b9bd-cf9f-4482-92ee-bdf7cdcfcda9",
   "metadata": {},
   "source": [
    "Q1. Explain Class and Object with respect to Object-Oriented Programming. Give a suitable example."
   ]
  },
  {
   "cell_type": "raw",
   "id": "5b480654-4ece-4c4c-811e-6bfb78272fee",
   "metadata": {},
   "source": [
    "An object is any entity that has attributes and behaviors. For example, a person is an object.\n",
    "attributes - name, age, color, etc.\n",
    "behavior - dancing, singing, etc.\n",
    "\n",
    "Similarly, a class is a blueprint for that object."
   ]
  },
  {
   "cell_type": "code",
   "execution_count": 1,
   "id": "336eb6f7-bc38-4054-9e4b-2b0393e1bf36",
   "metadata": {},
   "outputs": [
    {
     "name": "stdout",
     "output_type": "stream",
     "text": [
      "Sanket 27\n"
     ]
    }
   ],
   "source": [
    "class person:\n",
    "\n",
    "    name = \"\"\n",
    "    age = 0\n",
    "\n",
    "\n",
    "person1 = person()\n",
    "person1.name = \"Sanket\"\n",
    "person1.age = 27\n",
    "\n",
    "\n",
    "print(person1.name,person1.age)"
   ]
  },
  {
   "cell_type": "markdown",
   "id": "f9d028ea-2442-4b7e-a873-6fdf53a0c310",
   "metadata": {},
   "source": [
    "Q2. Name the four pillars of OOPs."
   ]
  },
  {
   "cell_type": "raw",
   "id": "314e86e9-336a-43fa-ade7-3b8f4e24e206",
   "metadata": {},
   "source": [
    "There are four pillars:\n",
    "\n",
    "Encapsulation\n",
    "Inheritance\n",
    "Polymorphism\n",
    "Abstraction"
   ]
  },
  {
   "cell_type": "markdown",
   "id": "0ce56605-7153-473e-bf5f-a33170179ce0",
   "metadata": {},
   "source": [
    "Q3. Explain why the __init__() function is used. Give a suitable example."
   ]
  },
  {
   "cell_type": "raw",
   "id": "494a9119-2c83-4a72-a8c5-5d6581f3f9aa",
   "metadata": {},
   "source": [
    "To understand the meaning of classes we have to understand the built-in __init__() function.\n",
    "\n",
    "All classes have a function called __init__(), which is always executed when the class is being initiated."
   ]
  },
  {
   "cell_type": "code",
   "execution_count": 2,
   "id": "67e39f22-5527-4cf1-85db-43886f4650c3",
   "metadata": {},
   "outputs": [],
   "source": [
    "class Person:\n",
    "  def __init__(self, name, age):\n",
    "    self.name = name\n",
    "    self.age = age\n",
    "\n",
    "p1 = Person(\"John\", 36)"
   ]
  },
  {
   "cell_type": "code",
   "execution_count": 3,
   "id": "8dff5fca-c5e7-400d-a6fa-4a4a2dff9b8d",
   "metadata": {},
   "outputs": [
    {
     "data": {
      "text/plain": [
       "'John'"
      ]
     },
     "execution_count": 3,
     "metadata": {},
     "output_type": "execute_result"
    }
   ],
   "source": [
    "p1.name"
   ]
  },
  {
   "cell_type": "code",
   "execution_count": 4,
   "id": "b89d4400-6906-44c8-8cce-473fc48a5ae4",
   "metadata": {},
   "outputs": [
    {
     "data": {
      "text/plain": [
       "36"
      ]
     },
     "execution_count": 4,
     "metadata": {},
     "output_type": "execute_result"
    }
   ],
   "source": [
    "p1.age"
   ]
  },
  {
   "cell_type": "markdown",
   "id": "4af0fa7a-cceb-4d64-9c66-3fe30875ab22",
   "metadata": {},
   "source": [
    "Q4. Why self is used in OOPs?"
   ]
  },
  {
   "cell_type": "raw",
   "id": "2c7e8658-af1b-4159-93b9-4c0b01cf2c1d",
   "metadata": {},
   "source": [
    "The self variable is used to represent the instance of the class which is often used in object-oriented programming. It works as a reference to the object. Python uses the self parameter to refer to instance attributes and methods of the class. "
   ]
  },
  {
   "cell_type": "markdown",
   "id": "5c344360-46d0-45e3-b1d1-82e0178b4ff2",
   "metadata": {},
   "source": [
    "Q5. What is inheritance? Give an example for each type of inheritance."
   ]
  },
  {
   "cell_type": "markdown",
   "id": "9125f4eb-b269-4ddf-b9db-f2ec3765aa70",
   "metadata": {},
   "source": [
    "Inheritance is defined as the mechanism of inheriting the properties of the base class to the child class."
   ]
  },
  {
   "cell_type": "raw",
   "id": "3e03b9f8-a8e4-4935-aa19-34f895bb0fa8",
   "metadata": {},
   "source": [
    "Types of Inheritance\n",
    "1) Single Inheritance\n",
    "2) Multiple Inheritance\n",
    "3) Multilevel Inheritance\n",
    "4) Hierarchical Inheritance"
   ]
  },
  {
   "cell_type": "code",
   "execution_count": 5,
   "id": "f00ad67b-9ed3-474a-b461-1cd2afb79b03",
   "metadata": {},
   "outputs": [],
   "source": [
    "#Single Inheritance\n",
    "class parent:\n",
    "    \n",
    "    def test1(self):\n",
    "        print(\"parent class\")\n",
    "        \n",
    "class child(parent):\n",
    "    def test2(self):\n",
    "        print(\"child class\")"
   ]
  },
  {
   "cell_type": "code",
   "execution_count": 6,
   "id": "0d59734e-58e4-40fe-bdb4-c1f98df592b9",
   "metadata": {},
   "outputs": [
    {
     "name": "stdout",
     "output_type": "stream",
     "text": [
      "parent class\n",
      "child class\n"
     ]
    }
   ],
   "source": [
    "obj=child()\n",
    "obj.test1()\n",
    "obj.test2()"
   ]
  },
  {
   "cell_type": "code",
   "execution_count": 7,
   "id": "5758da4e-d303-4e78-8dfa-35da7186a211",
   "metadata": {},
   "outputs": [
    {
     "name": "stdout",
     "output_type": "stream",
     "text": [
      "Base1 : RAM\n",
      "Base  : SITA\n"
     ]
    }
   ],
   "source": [
    "#Multiple Inheritance\n",
    "class Base:\n",
    "    xyz = \"\"\n",
    " \n",
    "    def test1(self):\n",
    "        print(self.xyz)\n",
    " \n",
    " \n",
    "class Base1:\n",
    "    abc = \"\"\n",
    " \n",
    "    def test2(self):\n",
    "        print(self.abc)\n",
    " \n",
    "\n",
    " \n",
    "class Derived(Base, Base1):\n",
    "    def test3(self):\n",
    "        print(\"Base1 :\", self.abc)\n",
    "        print(\"Base  :\", self.xyz)\n",
    " \n",
    " \n",
    "d1 = Derived()\n",
    "d1.abc = \"RAM\"\n",
    "d1.xyz = \"SITA\"\n",
    "d1.test3()"
   ]
  },
  {
   "cell_type": "code",
   "execution_count": 8,
   "id": "e5476967-93fe-4d4f-8f2f-e6456856417a",
   "metadata": {},
   "outputs": [
    {
     "name": "stdout",
     "output_type": "stream",
     "text": [
      "Grandfathername\n",
      "Fathername\n",
      "Son\n"
     ]
    }
   ],
   "source": [
    "#Multilevel Inheritance\n",
    "\n",
    "class Grandfather:\n",
    "\n",
    "    def Grandfather(self):\n",
    "        print(\"Grandfathername\")\n",
    " \n",
    " \n",
    "class Father(Grandfather):\n",
    "    \n",
    "    def Father(self):\n",
    "        print(\"Fathername\")\n",
    " \n",
    "\n",
    " \n",
    "class Son(Father):\n",
    "\n",
    "    def Son(self):\n",
    "        print(\"Son\")\n",
    " \n",
    " \n",
    "s1 = Son()\n",
    "s1.Grandfather()\n",
    "s1.Father()\n",
    "s1.Son()"
   ]
  },
  {
   "cell_type": "code",
   "execution_count": 9,
   "id": "dbfa2f94-4466-4d34-9e4f-3049d5cb8258",
   "metadata": {},
   "outputs": [
    {
     "name": "stdout",
     "output_type": "stream",
     "text": [
      "Parent\n",
      "Child1\n",
      "Child2\n",
      "Parent\n"
     ]
    }
   ],
   "source": [
    "#Hierarchical Inheritance\n",
    "class Parent:\n",
    "\n",
    "    def Parent(self):\n",
    "        print(\"Parent\")\n",
    " \n",
    " \n",
    "class Child1(Parent):\n",
    "    \n",
    "    def Child1(self):\n",
    "        print(\"Child1\")\n",
    "  \n",
    "class Child2(Parent):\n",
    "\n",
    "    def Child2(Child1):\n",
    "        print(\"Child2\")\n",
    " \n",
    " \n",
    "obj1 = Child1()\n",
    "obj2 = Child2()\n",
    "obj1.Parent()\n",
    "obj1.Child1()\n",
    "obj2.Child2()\n",
    "obj2.Parent()"
   ]
  }
 ],
 "metadata": {
  "kernelspec": {
   "display_name": "Python 3 (ipykernel)",
   "language": "python",
   "name": "python3"
  },
  "language_info": {
   "codemirror_mode": {
    "name": "ipython",
    "version": 3
   },
   "file_extension": ".py",
   "mimetype": "text/x-python",
   "name": "python",
   "nbconvert_exporter": "python",
   "pygments_lexer": "ipython3",
   "version": "3.10.8"
  }
 },
 "nbformat": 4,
 "nbformat_minor": 5
}
