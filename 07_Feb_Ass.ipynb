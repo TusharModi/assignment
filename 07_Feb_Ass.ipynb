{
 "cells": [
  {
   "cell_type": "markdown",
   "id": "a6f7622f-814d-45a1-a70d-aade53290fe1",
   "metadata": {},
   "source": [
    "Q1. You are writing code for a company. The requirement of the company is that you create a python\n",
    "function that will check whether the password entered by the user is correct or not. The function should\n",
    "take the password as input and return the string “Valid Password” if the entered password follows the\n",
    "below-given password guidelines else it should return “Invalid Password”.\n",
    "Note: 1. The Password should contain at least two uppercase letters and at least two lowercase letters.\n",
    "2. The Password should contain at least a number and three special characters.\n",
    "3. The length of the password should be 10 characters long."
   ]
  },
  {
   "cell_type": "code",
   "execution_count": 1,
   "id": "2e3eeab3-24c0-4dd9-8ac2-ebcc518cda16",
   "metadata": {},
   "outputs": [],
   "source": [
    "def pwd_chk(password):\n",
    "    cond1=True\n",
    "    cond2=True\n",
    "    cond3=True\n",
    "    cond4=True\n",
    "    cond5=True\n",
    "    if len(password)<10:\n",
    "        print(\"The length of the password should be 10 characters long.\")\n",
    "        cond1=False\n",
    "    if len((password.strip(password.lower())))<2:\n",
    "        print(\"The Password should contain at least two uppercase letters.\")\n",
    "        cond2=False\n",
    "    if len((password.strip(password.upper())))<2:\n",
    "        print(\"The Password should contain at least two lowercase letters.\")\n",
    "        cond3=False\n",
    "    b=['0','1','2','3','4','5','6','7','8','9']\n",
    "    a=[]\n",
    "    for i in password:\n",
    "        if i in b:\n",
    "            a.append(i)\n",
    "    if len(a)<1:\n",
    "        print(\"The Password should contain at least a number.\")\n",
    "        cond4=False\n",
    "    c=['!', '@', '#', '$', '%', '^', '&', '*', '(', ')', '-', '_', '+', '=', '[', ']', '{', '}', ':', ';', '\"', \"'\", '<', '>', '?', '/', '\\\\', '|', ',', '.', '~']\n",
    "    d=[]\n",
    "    for i in password:\n",
    "        if i in c:\n",
    "            d.append(i)\n",
    "    if len(d)<3:\n",
    "        print(\"The Password should contain three special characters.\")\n",
    "        cond5=False\n",
    "    if not (cond1 and cond2 and cond3 and cond4 and cond5):\n",
    "        print(\"Invalid Password\")\n",
    "    else:\n",
    "        print(\"Valid Password\")"
   ]
  },
  {
   "cell_type": "code",
   "execution_count": 2,
   "id": "9010a6df-2d9d-4bd5-a166-27e090175652",
   "metadata": {},
   "outputs": [
    {
     "name": "stdin",
     "output_type": "stream",
     "text": [
      "Enter the password: AbCd@#$1234\n"
     ]
    },
    {
     "name": "stdout",
     "output_type": "stream",
     "text": [
      "Valid Password\n"
     ]
    }
   ],
   "source": [
    "password=input(\"Enter the password:\")\n",
    "pwd_chk(password)"
   ]
  },
  {
   "cell_type": "markdown",
   "id": "e0e2d8d0-8667-4c1d-80e6-2634ea6129df",
   "metadata": {},
   "source": [
    "Q2. Solve the below-given questions using at least one of the following:\n",
    "1. Lambda function\n",
    "2. Filter function\n",
    "3. Map functioJ\n",
    "4. List Comprehension"
   ]
  },
  {
   "cell_type": "code",
   "execution_count": 3,
   "id": "3823feb2-41fa-42cd-a179-81b3f86a2694",
   "metadata": {},
   "outputs": [
    {
     "name": "stdin",
     "output_type": "stream",
     "text": [
      "Enter the letter: tushar\n"
     ]
    },
    {
     "name": "stdout",
     "output_type": "stream",
     "text": [
      "String does start with t.\n"
     ]
    }
   ],
   "source": [
    "#Check if the string starts with a particular letter.\n",
    "string=input(\"Enter the letter:\")\n",
    "result=lambda x: \"String does start with t.\" if string.startswith('t') else \"String does not start with t.\"\n",
    "print(result(string))"
   ]
  },
  {
   "cell_type": "code",
   "execution_count": 4,
   "id": "b2b08a72-410b-4aca-b4b0-f83c4ae30fdb",
   "metadata": {},
   "outputs": [
    {
     "name": "stdin",
     "output_type": "stream",
     "text": [
      "Enter the numeric string: 12345\n"
     ]
    },
    {
     "name": "stdout",
     "output_type": "stream",
     "text": [
      "String is numeric\n"
     ]
    }
   ],
   "source": [
    "#Check if the string is numeric.\n",
    "string=input(\"Enter the numeric string:\")\n",
    "result=lambda x: \"String is numeric\" if string.isnumeric() else \"String is not numeric\"\n",
    "print(result(string))"
   ]
  },
  {
   "cell_type": "code",
   "execution_count": 5,
   "id": "2951ae92-7d20-45ce-825b-281f43b91b12",
   "metadata": {},
   "outputs": [
    {
     "data": {
      "text/plain": [
       "[('orange', 80), ('mango', 99), ('grapes', 1000)]"
      ]
     },
     "execution_count": 5,
     "metadata": {},
     "output_type": "execute_result"
    }
   ],
   "source": [
    "#Sort a list of tuples having fruit names and their quantity. [(\"mango\",99),(\"orange\",80), (\"grapes\", 1000)].\n",
    "l= [(\"mango\",99),(\"orange\",80), (\"grapes\", 1000)]\n",
    "l.sort(key=lambda x:x[0],reverse=True)\n",
    "l"
   ]
  },
  {
   "cell_type": "code",
   "execution_count": 6,
   "id": "0c65fde8-db2d-4888-8344-a7c88c8ed0b1",
   "metadata": {},
   "outputs": [
    {
     "data": {
      "text/plain": [
       "[1, 4, 9, 16, 25, 36, 49, 64, 81, 100]"
      ]
     },
     "execution_count": 6,
     "metadata": {},
     "output_type": "execute_result"
    }
   ],
   "source": [
    "#Find the squares of numbers from 1 to 10.\n",
    "l=[i**2 for i in range(1,11)]\n",
    "l"
   ]
  },
  {
   "cell_type": "code",
   "execution_count": 7,
   "id": "20c17e5f-b874-4f93-a919-d8a74278a1a6",
   "metadata": {},
   "outputs": [
    {
     "data": {
      "text/plain": [
       "[1, 8, 27, 64, 125, 216, 343, 512, 729, 1000]"
      ]
     },
     "execution_count": 7,
     "metadata": {},
     "output_type": "execute_result"
    }
   ],
   "source": [
    "#Find the cube root of numbers from 1 to 10.\n",
    "l=[i**3 for i in range(1,11)]\n",
    "l"
   ]
  },
  {
   "cell_type": "code",
   "execution_count": 8,
   "id": "73016198-8fc0-49af-8560-6a85180acb17",
   "metadata": {},
   "outputs": [
    {
     "name": "stdin",
     "output_type": "stream",
     "text": [
      " 4\n"
     ]
    },
    {
     "name": "stdout",
     "output_type": "stream",
     "text": [
      "Even\n"
     ]
    }
   ],
   "source": [
    "#Check if a given number is even.\n",
    "number=int(input())\n",
    "result=lambda x:\"Even\" if x%2==0 else \"Odd\"\n",
    "print(result(number))"
   ]
  },
  {
   "cell_type": "code",
   "execution_count": 9,
   "id": "2924851c-ca45-401d-b8fe-0d15c08bff6e",
   "metadata": {},
   "outputs": [
    {
     "data": {
      "text/plain": [
       "[1, 3, 5, 7, 9]"
      ]
     },
     "execution_count": 9,
     "metadata": {},
     "output_type": "execute_result"
    }
   ],
   "source": [
    "#Filter odd numbers from the given list.\n",
    "l=[1,2,3,4,5,6,7,8,9,10]\n",
    "result=list(filter(lambda x: x%2!=0 ,l))\n",
    "result"
   ]
  },
  {
   "cell_type": "code",
   "execution_count": 10,
   "id": "f5fca511-8c90-47a6-add2-6ea6fc630d88",
   "metadata": {},
   "outputs": [],
   "source": [
    "#Sort a list of integers into positive and negative integers lists.\n",
    "l=[1,2,3,4,5,6,-1,-2,-3,-4,-5,0]\n",
    "positive=list(filter(lambda x: x>0 ,l))\n",
    "negative=list(filter(lambda x: x<0 ,l))"
   ]
  },
  {
   "cell_type": "code",
   "execution_count": 11,
   "id": "5be5bad9-53b2-4540-a834-e12b4c565bf9",
   "metadata": {},
   "outputs": [
    {
     "data": {
      "text/plain": [
       "[1, 2, 3, 4, 5, 6]"
      ]
     },
     "execution_count": 11,
     "metadata": {},
     "output_type": "execute_result"
    }
   ],
   "source": [
    "positive"
   ]
  },
  {
   "cell_type": "code",
   "execution_count": 12,
   "id": "dc480e6b-3acd-4440-84bf-77ccffc8868f",
   "metadata": {},
   "outputs": [
    {
     "data": {
      "text/plain": [
       "[-1, -2, -3, -4, -5]"
      ]
     },
     "execution_count": 12,
     "metadata": {},
     "output_type": "execute_result"
    }
   ],
   "source": [
    "negative"
   ]
  }
 ],
 "metadata": {
  "kernelspec": {
   "display_name": "Python 3 (ipykernel)",
   "language": "python",
   "name": "python3"
  },
  "language_info": {
   "codemirror_mode": {
    "name": "ipython",
    "version": 3
   },
   "file_extension": ".py",
   "mimetype": "text/x-python",
   "name": "python",
   "nbconvert_exporter": "python",
   "pygments_lexer": "ipython3",
   "version": "3.10.8"
  }
 },
 "nbformat": 4,
 "nbformat_minor": 5
}
